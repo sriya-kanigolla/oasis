{
 "cells": [
  {
   "cell_type": "code",
   "execution_count": 1,
   "id": "0b82fc24",
   "metadata": {},
   "outputs": [
    {
     "name": "stdout",
     "output_type": "stream",
     "text": [
      "Enter your height in meters: 1.86\n",
      "Enter your weight in Kg: 65\n",
      "BMI Calculated is: 18.78829922534397\n",
      "You are normal\n"
     ]
    }
   ],
   "source": [
    "def calculate_bmi(height, weight):\n",
    "    return weight / (height * height)\n",
    "\n",
    "def interpret_bmi(bmi):\n",
    "    if bmi <= 0:\n",
    "        return \"Enter valid details\"\n",
    "    elif bmi <= 16:\n",
    "        return \"You are very underweight\"\n",
    "    elif bmi <= 18.5:\n",
    "        return \"You are underweight\"\n",
    "    elif bmi <= 25:\n",
    "        return \"You are normal\"\n",
    "    elif bmi <= 30:\n",
    "        return \"You are overweight\"\n",
    "    else:\n",
    "        return \"You are very overweight\"\n",
    "\n",
    "height = float(input(\"Enter your height in meters: \"))\n",
    "weight = float(input(\"Enter your weight in Kg: \"))\n",
    "\n",
    "calculated_bmi = calculate_bmi(height, weight)\n",
    "print(\"BMI Calculated is:\", calculated_bmi)\n",
    "interpretation = interpret_bmi(calculated_bmi)\n",
    "print(interpretation)"
   ]
  },
  {
   "cell_type": "code",
   "execution_count": null,
   "id": "31adffe4",
   "metadata": {},
   "outputs": [],
   "source": []
  },
  {
   "cell_type": "code",
   "execution_count": null,
   "id": "d32ae2a2",
   "metadata": {},
   "outputs": [],
   "source": []
  }
 ],
 "metadata": {
  "kernelspec": {
   "display_name": "Python 3 (ipykernel)",
   "language": "python",
   "name": "python3"
  },
  "language_info": {
   "codemirror_mode": {
    "name": "ipython",
    "version": 3
   },
   "file_extension": ".py",
   "mimetype": "text/x-python",
   "name": "python",
   "nbconvert_exporter": "python",
   "pygments_lexer": "ipython3",
   "version": "3.9.7"
  }
 },
 "nbformat": 4,
 "nbformat_minor": 5
}
