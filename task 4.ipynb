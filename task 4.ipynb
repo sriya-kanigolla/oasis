{
 "cells": [
  {
   "cell_type": "code",
   "execution_count": 1,
   "id": "6a61407c",
   "metadata": {},
   "outputs": [],
   "source": [
    "import requests\n",
    "import json\n",
    "def get_weather(api_key, location):\n",
    "    base_url = \"https://api.openweathermap.org/data/2.5/weather\"\n",
    "    params = {\n",
    "        \"q\": location,\n",
    "        \"appid\": api_key,\n",
    "        \"units\": \"metric\"\n",
    "    }\n",
    "    try:\n",
    "        response = requests.get(base_url, params=params)\n",
    "        data = response.json()\n",
    "\n",
    "        if data[\"cod\"] == 200:\n",
    "            # Extract weather data\n",
    "            temperature = data[\"main\"][\"temp\"]\n",
    "            humidity = data[\"main\"][\"humidity\"]\n",
    "            weather_condition = data[\"weather\"][0][\"description\"]\n",
    "\n",
    "            # Print weather information\n",
    "            print(f\"Weather in {location}:\")\n",
    "            print(f\"Temperature: {temperature}°C\")\n",
    "            print(f\"Humidity: {humidity}%\")\n",
    "            print(f\"Conditions: {weather_condition}\")\n",
    "        else:\n",
    "            print(f\"Error: {data['message']}\")\n",
    "\n",
    "    except requests.exceptions.RequestException:\n",
    "        print(\"Failed to connect to the weather service\")\n",
    "    except json.JSONDecodeError:\n",
    "        print(\"Failed to parse the weather data\")"
   ]
  },
  {
   "cell_type": "code",
   "execution_count": 3,
   "id": "1cbbdfa9",
   "metadata": {},
   "outputs": [
    {
     "name": "stdout",
     "output_type": "stream",
     "text": [
      "Enter a city or ZIP code: 506167\n",
      "Weather in 506167:\n",
      "Temperature: 21.97°C\n",
      "Humidity: 89%\n",
      "Conditions: overcast clouds\n"
     ]
    }
   ],
   "source": [
    "if __name__ == \"__main__\":\n",
    "    api_key = \"c3b3100687e438922607c3e1fe453208\"\n",
    "    location = input(\"Enter a city or ZIP code: \")\n",
    "    get_weather(api_key, location)"
   ]
  },
  {
   "cell_type": "code",
   "execution_count": null,
   "id": "636cfaa2",
   "metadata": {},
   "outputs": [],
   "source": []
  },
  {
   "cell_type": "code",
   "execution_count": null,
   "id": "7dee988b",
   "metadata": {},
   "outputs": [],
   "source": []
  }
 ],
 "metadata": {
  "kernelspec": {
   "display_name": "Python 3 (ipykernel)",
   "language": "python",
   "name": "python3"
  },
  "language_info": {
   "codemirror_mode": {
    "name": "ipython",
    "version": 3
   },
   "file_extension": ".py",
   "mimetype": "text/x-python",
   "name": "python",
   "nbconvert_exporter": "python",
   "pygments_lexer": "ipython3",
   "version": "3.9.7"
  }
 },
 "nbformat": 4,
 "nbformat_minor": 5
}
